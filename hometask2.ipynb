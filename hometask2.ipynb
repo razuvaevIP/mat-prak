{
 "cells": [
  {
   "cell_type": "code",
   "execution_count": 7,
   "metadata": {},
   "outputs": [
    {
     "name": "stdout",
     "output_type": "stream",
     "text": [
      "[[-6.54271089e-01 -8.27702383e-01  1.73176949e-03]\n",
      " [ 1.87794858e+00 -7.46334524e-01  3.81225466e-01]\n",
      " [-1.72739541e+00 -2.49297700e-01  3.74064516e-01]\n",
      " [ 2.80906768e-01 -2.27788590e+00  5.26148010e-01]\n",
      " [ 5.87085921e-01  9.72447136e-03  7.67651229e-01]\n",
      " [ 9.12288326e-01 -4.18087655e-01  2.53061221e-01]\n",
      " [ 3.85886932e-01 -1.93345813e+00  1.31966500e+00]\n",
      " [ 1.03393083e-01 -8.21928146e-01 -3.36801078e-01]\n",
      " [ 1.31041887e+00 -1.32496895e+00  4.57120298e-01]\n",
      " [ 2.15447633e+00  4.80460187e-01  3.15706588e-01]]\n",
      "0.0017317694881523746\n",
      "0.3812254655559826\n",
      "-0.2492977004927485\n",
      "0.28090676810066273\n",
      "0.009724471364801496\n",
      "0.2530612207000443\n",
      "0.3858869320879954\n",
      "0.10339308291954319\n",
      "0.4571202981968128\n",
      "0.31570658756653575\n"
     ]
    }
   ],
   "source": [
    "import numpy as np\n",
    "a = np.random.randn(10,3)\n",
    "print(a)\n",
    "k=0\n",
    "for i in range (10):\n",
    "    b=abs(a[i][0])-0.5\n",
    "    l=a[i][0]\n",
    "    for j in range (3):\n",
    "        m=abs(a[i][j])-0.5\n",
    "        if m < b:\n",
    "            l=a[i][j]\n",
    "            b=abs(a[i][j])-0.5\n",
    "    print (l)"
   ]
  },
  {
   "cell_type": "code",
   "execution_count": 46,
   "metadata": {},
   "outputs": [
    {
     "name": "stdout",
     "output_type": "stream",
     "text": [
      "[[ 0.2289185  -0.12354431 -0.14968387 -0.11025226 -0.84272578 -0.82745213]\n",
      " [-0.08326826  0.70663364  1.01372548  0.44438644  1.40948145 -0.95860885]\n",
      " [ 0.11905442 -0.07614781 -1.32203492 -0.41466413 -0.1304657   0.52081919]\n",
      " [ 0.85342147 -2.23473877  1.07279315  1.35813177 -0.57032764 -0.62830586]\n",
      " [ 1.24790137  1.91141904  0.60990434  1.14086855  0.81213873  1.5443479 ]\n",
      " [-0.56933834 -3.22878374  0.63384253  0.81355561  0.84935719  0.55256096]]\n",
      "[-1.82473984  2.5323499  -1.30343895 -0.14902588  7.26657994 -0.9488058 ]\n",
      "[-0.56933834 -3.22878374 -1.32203492 -0.41466413 -0.84272578 -0.95860885]\n",
      "3.2050183500786087\n",
      "-0.7843045888510595\n",
      "0.9859338290553504\n",
      "0.35938938025030115\n",
      "-8.62270994004906\n",
      "0.9897736708712115\n"
     ]
    }
   ],
   "source": [
    "import numpy as np\n",
    "a = np.random.randn(6,6)\n",
    "b=a.min (axis=0)\n",
    "c=a.sum (axis=1)\n",
    "for i in range (6):\n",
    "    if b[i]!=0:\n",
    "        l=c[i]/b[i]\n",
    "        print(l)\n",
    "    else:\n",
    "        print(\"bad\")"
   ]
  },
  {
   "cell_type": "code",
   "execution_count": 38,
   "metadata": {},
   "outputs": [
    {
     "name": "stdout",
     "output_type": "stream",
     "text": [
      "5\n"
     ]
    }
   ],
   "source": [
    "import numpy as np\n",
    "x=np.array([6,2,0,3,0,0,5,7,0])\n",
    "a=len(x)\n",
    "for i in range (a):\n",
    "    if x[i]==0:\n",
    "        if i<a-1:\n",
    "            c=x[i+1]\n",
    "            v=x[i+1]\n",
    "for i in range (a):\n",
    "    if x[i]==0:\n",
    "        if i<a-1:\n",
    "            c=x[i+1]\n",
    "            if v<c:\n",
    "                v=c\n",
    "print (v)"
   ]
  },
  {
   "cell_type": "code",
   "execution_count": 48,
   "metadata": {},
   "outputs": [
    {
     "name": "stdout",
     "output_type": "stream",
     "text": [
      "[2. 2. 2. 2. 1. 4. 1. 1. 2. 1.]\n"
     ]
    }
   ],
   "source": [
    "import numpy as np\n",
    "x=np.ones(10)\n",
    "i = np.array([0, 1, 2, 3, 5, 5, 5, 8])\n",
    "for j in i:\n",
    "    x[j]=x[j]+1\n",
    "print (x)"
   ]
  },
  {
   "cell_type": "code",
   "execution_count": 50,
   "metadata": {},
   "outputs": [
    {
     "data": {
      "text/plain": [
       "array([[4.17944278, 2.69811351, 7.21248917],\n",
       "       [3.29956009, 2.93273208, 9.33380951],\n",
       "       [1.75976538, 0.7038557 , 7.21248917]])"
      ]
     },
     "execution_count": 50,
     "metadata": {},
     "output_type": "execute_result"
    }
   ],
   "source": [
    "from scipy.cluster.vq import whiten\n",
    "import numpy as np\n",
    "N=input()\n",
    "M=input()\n",
    "obs=np.random.randn(M,N)\n",
    "k=input()\n",
    "thresh=input()\n",
    "book=np.random.randn(k,N)\n",
    "whiten(obs)"
   ]
  },
  {
   "cell_type": "code",
   "execution_count": null,
   "metadata": {
    "scrolled": true
   },
   "outputs": [],
   "source": []
  },
  {
   "cell_type": "code",
   "execution_count": null,
   "metadata": {},
   "outputs": [],
   "source": []
  }
 ],
 "metadata": {
  "kernelspec": {
   "display_name": "Python 3",
   "language": "python",
   "name": "python3"
  },
  "language_info": {
   "codemirror_mode": {
    "name": "ipython",
    "version": 3
   },
   "file_extension": ".py",
   "mimetype": "text/x-python",
   "name": "python",
   "nbconvert_exporter": "python",
   "pygments_lexer": "ipython3",
   "version": "3.7.0"
  }
 },
 "nbformat": 4,
 "nbformat_minor": 2
}
